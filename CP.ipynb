{
 "cells": [
  {
   "cell_type": "markdown",
   "metadata": {},
   "source": [
    "## Basic import"
   ]
  },
  {
   "cell_type": "code",
   "execution_count": 11,
   "metadata": {},
   "outputs": [],
   "source": [
    "from torchcp.classification.predictors import ClassWisePredictor,ClusterPredictor,SplitPredictor\n",
    "from torchcp.classification.scores import APS,RAPS,SAPS,THR,Margin\n",
    "from torchcp.utils import fix_randomness\n",
    "import torch\n",
    "from torchvision import datasets, transforms\n",
    "import dill\n",
    "import pandas as pd\n",
    "\n",
    "fix_randomness(seed=1)\n",
    "device = torch.device(\"cuda:0\" if torch.cuda.is_available() else \"cpu\")"
   ]
  },
  {
   "cell_type": "markdown",
   "metadata": {},
   "source": [
    "## Load Dataset"
   ]
  },
  {
   "cell_type": "markdown",
   "metadata": {},
   "source": [
    "### Fashion MNIST"
   ]
  },
  {
   "cell_type": "code",
   "execution_count": 2,
   "metadata": {},
   "outputs": [],
   "source": [
    "transform_train_FM=transforms.Compose([\n",
    "    transforms.Grayscale(num_output_channels=3),\n",
    "    transforms.Resize((32,32)),\n",
    "    transforms.RandomCrop(32, padding=4),\n",
    "    transforms.RandomHorizontalFlip(),\n",
    "    transforms.ToTensor(),\n",
    "    transforms.Normalize((0.28604063391685486,0.28604063391685486,0.28604063391685486),(0.10887365788221359,0.10887365788221359,0.10887365788221359))\n",
    "])\n",
    "\n",
    "transform_test_FM=transforms.Compose([\n",
    "    transforms.Grayscale(num_output_channels=3),\n",
    "    transforms.Resize((32,32)),\n",
    "    transforms.ToTensor(),\n",
    "    transforms.Normalize((0.28604063391685486,0.28604063391685486,0.28604063391685486),(0.10887365788221359,0.10887365788221359,0.10887365788221359))\n",
    "])\n",
    "\n",
    "testset_FM = datasets.FashionMNIST('~/.pytorch/F_MNIST_data/', download=True, train=False, transform=transform_test_FM)\n",
    "\n",
    "cal_dataset_FM, test_dataset_FM = torch.utils.data.random_split(testset_FM, [5000, 5000])\n",
    "\n",
    "cal_loader_FM = torch.utils.data.DataLoader(cal_dataset_FM, batch_size=250, shuffle=False)\n",
    "test_loader_FM = torch.utils.data.DataLoader(test_dataset_FM, batch_size=250, shuffle=False)\n",
    "\n",
    "class_names_FM = [\"T-shirt/top\",\"Trouser\",\"Pullover\",\"Dress\",\"Coat\",\"Sandal\",\"Shirt\",\"Sneaker\",\"Bag\",\"Ankle boot\"]"
   ]
  },
  {
   "cell_type": "markdown",
   "metadata": {},
   "source": [
    "### Cifar-10"
   ]
  },
  {
   "cell_type": "code",
   "execution_count": 3,
   "metadata": {},
   "outputs": [
    {
     "name": "stdout",
     "output_type": "stream",
     "text": [
      "Files already downloaded and verified\n"
     ]
    }
   ],
   "source": [
    "transform_train_Cifar = transforms.Compose([\n",
    "    transforms.RandomCrop(32,padding=4),\n",
    "    transforms.RandomHorizontalFlip(),\n",
    "    transforms.ToTensor(),\n",
    "    transforms.Normalize((0.4914, 0.4822, 0.4465), (0.2023, 0.1994, 0.2010))\n",
    "])\n",
    "\n",
    "transform_test_Cifar = transforms.Compose([\n",
    "    transforms.ToTensor(),\n",
    "    transforms.Normalize((0.4914, 0.4822, 0.4465), (0.2023, 0.1994, 0.2010))\n",
    "])\n",
    "\n",
    "testset_Cifar10 = datasets.CIFAR10(root='~/.pytorch/CIFAR10_data/', download=True, train=False, transform=transform_test_Cifar)\n",
    "\n",
    "cal_dataset_Cifar10, test_dataset_Cifar10 = torch.utils.data.random_split(testset_Cifar10, [5000, 5000])\n",
    "\n",
    "cal_loader_Cifar10 = torch.utils.data.DataLoader(cal_dataset_Cifar10, batch_size=250, shuffle=False)\n",
    "test_loader_cifar10 = torch.utils.data.DataLoader(test_dataset_Cifar10, batch_size=250, shuffle=False)"
   ]
  },
  {
   "cell_type": "markdown",
   "metadata": {},
   "source": [
    "### Cifar-100"
   ]
  },
  {
   "cell_type": "code",
   "execution_count": 4,
   "metadata": {},
   "outputs": [
    {
     "name": "stdout",
     "output_type": "stream",
     "text": [
      "Files already downloaded and verified\n"
     ]
    }
   ],
   "source": [
    "testset_Cifar100 = datasets.CIFAR100(root='~/.pytorch/CIFAR100_data/', download=True, train=False, transform=transform_test_Cifar)\n",
    "\n",
    "cal_dataset_Cifar100, test_dataset_Cifar100 = torch.utils.data.random_split(testset_Cifar100, [5000, 5000])\n",
    "\n",
    "cal_loader_Cifar100 = torch.utils.data.DataLoader(cal_dataset_Cifar100, batch_size=250, shuffle=False)\n",
    "test_loader_cifar100 = torch.utils.data.DataLoader(test_dataset_Cifar100, batch_size=250, shuffle=False)"
   ]
  },
  {
   "cell_type": "markdown",
   "metadata": {},
   "source": [
    "## Conformal Prediction"
   ]
  },
  {
   "cell_type": "code",
   "execution_count": 12,
   "metadata": {},
   "outputs": [],
   "source": [
    "model1 = torch.load('model/model1.pth', pickle_module=dill)\n",
    "resnet1 = torch.load('model/resnet1.pth', pickle_module=dill)\n",
    "resnet2 = torch.load('model/resnet2.pth', pickle_module=dill)\n",
    "resnet3 = torch.load('model/resnet3.pth', pickle_module=dill)"
   ]
  },
  {
   "cell_type": "code",
   "execution_count": 13,
   "metadata": {},
   "outputs": [],
   "source": [
    "def CP(model,cal_loader,test_loader,setname,mdname):\n",
    "    columns = ['THR', 'APS', 'RAPS', 'SAPS', 'Margin']\n",
    "    index = ['SplitPredictor', 'ClassWisePredictor', 'ClusterPredictor']\n",
    "    df_Cr = pd.DataFrame(columns=columns, index=index)\n",
    "    df_As = pd.DataFrame(columns=columns, index=index)\n",
    "\n",
    "    predictors = [SplitPredictor, ClassWisePredictor, ClusterPredictor]\n",
    "    score_functions = [THR(),  APS(), RAPS(1, 0), SAPS(0.2), Margin()]\n",
    "    for score in score_functions: \n",
    "        for class_predictor in predictors:\n",
    "            predictor = class_predictor(score, model)\n",
    "            predictor.calibrate(cal_loader, 0.05)\n",
    "            print(f\"Experiment--Data : {setname}, Model : {mdname}, Score : {score.__class__.__name__}, Predictor : {predictor.__class__.__name__}, Alpha : 0.05\")\n",
    "            result=predictor.evaluate(test_loader)\n",
    "            print(result)\n",
    "            df_Cr.loc[predictor.__class__.__name__,score.__class__.__name__]=result['Coverage_rate']\n",
    "            df_As.loc[predictor.__class__.__name__,score.__class__.__name__]=result['Average_size']\n",
    "\n",
    "    path1=\"table/\"+mdname+\"_\"+setname+\"_Cr.csv\"\n",
    "    path2=\"table/\"+mdname+\"_\"+setname+\"_As.csv\"\n",
    "    df_Cr.to_csv(path1)\n",
    "    df_As.to_csv(path2)"
   ]
  },
  {
   "cell_type": "code",
   "execution_count": 7,
   "metadata": {},
   "outputs": [
    {
     "name": "stdout",
     "output_type": "stream",
     "text": [
      "Experiment--Data : Fashion_MNIST, Model : CNN, Score : THR, Predictor : SplitPredictor, Alpha : 0.05\n",
      "{'Coverage_rate': 0.9414, 'Average_size': 1.1202}\n",
      "Experiment--Data : Fashion_MNIST, Model : CNN, Score : THR, Predictor : ClassWisePredictor, Alpha : 0.05\n",
      "{'Coverage_rate': 0.9494, 'Average_size': 1.2172}\n",
      "Experiment--Data : Fashion_MNIST, Model : CNN, Score : THR, Predictor : ClusterPredictor, Alpha : 0.05\n",
      "{'Coverage_rate': 0.9406, 'Average_size': 1.1168}\n",
      "Experiment--Data : Fashion_MNIST, Model : CNN, Score : APS, Predictor : SplitPredictor, Alpha : 0.05\n",
      "{'Coverage_rate': 0.9532, 'Average_size': 1.3768}\n",
      "Experiment--Data : Fashion_MNIST, Model : CNN, Score : APS, Predictor : ClassWisePredictor, Alpha : 0.05\n",
      "{'Coverage_rate': 0.9446, 'Average_size': 1.367}\n",
      "Experiment--Data : Fashion_MNIST, Model : CNN, Score : APS, Predictor : ClusterPredictor, Alpha : 0.05\n",
      "{'Coverage_rate': 0.9528, 'Average_size': 1.387}\n",
      "Experiment--Data : Fashion_MNIST, Model : CNN, Score : RAPS, Predictor : SplitPredictor, Alpha : 0.05\n",
      "{'Coverage_rate': 0.9442, 'Average_size': 1.1602}\n",
      "Experiment--Data : Fashion_MNIST, Model : CNN, Score : RAPS, Predictor : ClassWisePredictor, Alpha : 0.05\n",
      "{'Coverage_rate': 0.949, 'Average_size': 1.2804}\n",
      "Experiment--Data : Fashion_MNIST, Model : CNN, Score : RAPS, Predictor : ClusterPredictor, Alpha : 0.05\n",
      "{'Coverage_rate': 0.94, 'Average_size': 1.1568}\n",
      "Experiment--Data : Fashion_MNIST, Model : CNN, Score : SAPS, Predictor : SplitPredictor, Alpha : 0.05\n",
      "{'Coverage_rate': 0.9518, 'Average_size': 1.3868}\n",
      "Experiment--Data : Fashion_MNIST, Model : CNN, Score : SAPS, Predictor : ClassWisePredictor, Alpha : 0.05\n",
      "{'Coverage_rate': 0.9482, 'Average_size': 1.388}\n",
      "Experiment--Data : Fashion_MNIST, Model : CNN, Score : SAPS, Predictor : ClusterPredictor, Alpha : 0.05\n",
      "{'Coverage_rate': 0.9458, 'Average_size': 1.3692}\n",
      "Experiment--Data : Fashion_MNIST, Model : CNN, Score : Margin, Predictor : SplitPredictor, Alpha : 0.05\n",
      "{'Coverage_rate': 0.9464, 'Average_size': 1.2028}\n",
      "Experiment--Data : Fashion_MNIST, Model : CNN, Score : Margin, Predictor : ClassWisePredictor, Alpha : 0.05\n",
      "{'Coverage_rate': 0.5652, 'Average_size': 0.9716}\n",
      "Experiment--Data : Fashion_MNIST, Model : CNN, Score : Margin, Predictor : ClusterPredictor, Alpha : 0.05\n",
      "{'Coverage_rate': 0.947, 'Average_size': 1.2078}\n"
     ]
    }
   ],
   "source": [
    "CP(model1,cal_loader_FM,test_loader_FM,\"Fashion_MNIST\",\"CNN\")"
   ]
  },
  {
   "cell_type": "code",
   "execution_count": 8,
   "metadata": {},
   "outputs": [
    {
     "name": "stdout",
     "output_type": "stream",
     "text": [
      "Experiment--Data : Fashion_MNIST, Model : Resnet50, Score : THR, Predictor : SplitPredictor, Alpha : 0.05\n",
      "{'Coverage_rate': 0.951, 'Average_size': 1.1594}\n",
      "Experiment--Data : Fashion_MNIST, Model : Resnet50, Score : THR, Predictor : ClassWisePredictor, Alpha : 0.05\n",
      "{'Coverage_rate': 0.9504, 'Average_size': 1.226}\n",
      "Experiment--Data : Fashion_MNIST, Model : Resnet50, Score : THR, Predictor : ClusterPredictor, Alpha : 0.05\n",
      "{'Coverage_rate': 0.9512, 'Average_size': 1.16}\n",
      "Experiment--Data : Fashion_MNIST, Model : Resnet50, Score : APS, Predictor : SplitPredictor, Alpha : 0.05\n",
      "{'Coverage_rate': 0.9532, 'Average_size': 1.3582}\n",
      "Experiment--Data : Fashion_MNIST, Model : Resnet50, Score : APS, Predictor : ClassWisePredictor, Alpha : 0.05\n",
      "{'Coverage_rate': 0.9522, 'Average_size': 1.3982}\n",
      "Experiment--Data : Fashion_MNIST, Model : Resnet50, Score : APS, Predictor : ClusterPredictor, Alpha : 0.05\n",
      "{'Coverage_rate': 0.9456, 'Average_size': 1.3366}\n",
      "Experiment--Data : Fashion_MNIST, Model : Resnet50, Score : RAPS, Predictor : SplitPredictor, Alpha : 0.05\n",
      "{'Coverage_rate': 0.9468, 'Average_size': 1.1826}\n",
      "Experiment--Data : Fashion_MNIST, Model : Resnet50, Score : RAPS, Predictor : ClassWisePredictor, Alpha : 0.05\n",
      "{'Coverage_rate': 0.9482, 'Average_size': 1.3568}\n",
      "Experiment--Data : Fashion_MNIST, Model : Resnet50, Score : RAPS, Predictor : ClusterPredictor, Alpha : 0.05\n",
      "{'Coverage_rate': 0.95, 'Average_size': 1.1868}\n",
      "Experiment--Data : Fashion_MNIST, Model : Resnet50, Score : SAPS, Predictor : SplitPredictor, Alpha : 0.05\n",
      "{'Coverage_rate': 0.9496, 'Average_size': 1.3114}\n",
      "Experiment--Data : Fashion_MNIST, Model : Resnet50, Score : SAPS, Predictor : ClassWisePredictor, Alpha : 0.05\n",
      "{'Coverage_rate': 0.9454, 'Average_size': 1.4092}\n",
      "Experiment--Data : Fashion_MNIST, Model : Resnet50, Score : SAPS, Predictor : ClusterPredictor, Alpha : 0.05\n",
      "{'Coverage_rate': 0.9498, 'Average_size': 1.3128}\n",
      "Experiment--Data : Fashion_MNIST, Model : Resnet50, Score : Margin, Predictor : SplitPredictor, Alpha : 0.05\n",
      "{'Coverage_rate': 0.9514, 'Average_size': 1.4374}\n",
      "Experiment--Data : Fashion_MNIST, Model : Resnet50, Score : Margin, Predictor : ClassWisePredictor, Alpha : 0.05\n",
      "{'Coverage_rate': 0.4798, 'Average_size': 0.9602}\n",
      "Experiment--Data : Fashion_MNIST, Model : Resnet50, Score : Margin, Predictor : ClusterPredictor, Alpha : 0.05\n",
      "{'Coverage_rate': 0.9514, 'Average_size': 1.4374}\n"
     ]
    }
   ],
   "source": [
    "CP(resnet1,cal_loader_FM,test_loader_FM,\"Fashion_MNIST\",\"Resnet50\")"
   ]
  },
  {
   "cell_type": "code",
   "execution_count": 9,
   "metadata": {},
   "outputs": [
    {
     "name": "stdout",
     "output_type": "stream",
     "text": [
      "Experiment--Data : Cifar10, Model : Resnet50, Score : THR, Predictor : SplitPredictor, Alpha : 0.05\n",
      "{'Coverage_rate': 0.9496, 'Average_size': 1.72}\n",
      "Experiment--Data : Cifar10, Model : Resnet50, Score : THR, Predictor : ClassWisePredictor, Alpha : 0.05\n",
      "{'Coverage_rate': 0.9518, 'Average_size': 1.7732}\n",
      "Experiment--Data : Cifar10, Model : Resnet50, Score : THR, Predictor : ClusterPredictor, Alpha : 0.05\n",
      "{'Coverage_rate': 0.9496, 'Average_size': 1.7204}\n",
      "Experiment--Data : Cifar10, Model : Resnet50, Score : APS, Predictor : SplitPredictor, Alpha : 0.05\n",
      "{'Coverage_rate': 0.9502, 'Average_size': 1.9852}\n",
      "Experiment--Data : Cifar10, Model : Resnet50, Score : APS, Predictor : ClassWisePredictor, Alpha : 0.05\n",
      "{'Coverage_rate': 0.95, 'Average_size': 2.0462}\n",
      "Experiment--Data : Cifar10, Model : Resnet50, Score : APS, Predictor : ClusterPredictor, Alpha : 0.05\n",
      "{'Coverage_rate': 0.9522, 'Average_size': 1.9842}\n",
      "Experiment--Data : Cifar10, Model : Resnet50, Score : RAPS, Predictor : SplitPredictor, Alpha : 0.05\n",
      "{'Coverage_rate': 0.9464, 'Average_size': 2.1498}\n",
      "Experiment--Data : Cifar10, Model : Resnet50, Score : RAPS, Predictor : ClassWisePredictor, Alpha : 0.05\n",
      "{'Coverage_rate': 0.9488, 'Average_size': 2.1112}\n",
      "Experiment--Data : Cifar10, Model : Resnet50, Score : RAPS, Predictor : ClusterPredictor, Alpha : 0.05\n",
      "{'Coverage_rate': 0.9472, 'Average_size': 2.1566}\n",
      "Experiment--Data : Cifar10, Model : Resnet50, Score : SAPS, Predictor : SplitPredictor, Alpha : 0.05\n",
      "{'Coverage_rate': 0.9502, 'Average_size': 1.9628}\n",
      "Experiment--Data : Cifar10, Model : Resnet50, Score : SAPS, Predictor : ClassWisePredictor, Alpha : 0.05\n",
      "{'Coverage_rate': 0.9478, 'Average_size': 2.0292}\n",
      "Experiment--Data : Cifar10, Model : Resnet50, Score : SAPS, Predictor : ClusterPredictor, Alpha : 0.05\n",
      "{'Coverage_rate': 0.9486, 'Average_size': 1.9464}\n",
      "Experiment--Data : Cifar10, Model : Resnet50, Score : Margin, Predictor : SplitPredictor, Alpha : 0.05\n",
      "{'Coverage_rate': 0.9496, 'Average_size': 3.1456}\n",
      "Experiment--Data : Cifar10, Model : Resnet50, Score : Margin, Predictor : ClassWisePredictor, Alpha : 0.05\n",
      "{'Coverage_rate': 0.9476, 'Average_size': 2.7912}\n",
      "Experiment--Data : Cifar10, Model : Resnet50, Score : Margin, Predictor : ClusterPredictor, Alpha : 0.05\n",
      "{'Coverage_rate': 0.9496, 'Average_size': 3.1306}\n"
     ]
    }
   ],
   "source": [
    "CP(resnet2,cal_loader_Cifar10,test_loader_cifar10,\"Cifar10\",\"Resnet50\")"
   ]
  },
  {
   "cell_type": "code",
   "execution_count": 10,
   "metadata": {},
   "outputs": [
    {
     "name": "stdout",
     "output_type": "stream",
     "text": [
      "Experiment--Data : Cifar100, Model : Renet50, Score : THR, Predictor : SplitPredictor, Alpha : 0.05\n",
      "{'Coverage_rate': 0.953, 'Average_size': 19.8032}\n",
      "Experiment--Data : Cifar100, Model : Renet50, Score : THR, Predictor : ClassWisePredictor, Alpha : 0.05\n",
      "{'Coverage_rate': 0.9468, 'Average_size': 22.954}\n",
      "Experiment--Data : Cifar100, Model : Renet50, Score : THR, Predictor : ClusterPredictor, Alpha : 0.05\n",
      "{'Coverage_rate': 0.953, 'Average_size': 21.6614}\n",
      "Experiment--Data : Cifar100, Model : Renet50, Score : APS, Predictor : SplitPredictor, Alpha : 0.05\n",
      "{'Coverage_rate': 0.9504, 'Average_size': 20.0052}\n",
      "Experiment--Data : Cifar100, Model : Renet50, Score : APS, Predictor : ClassWisePredictor, Alpha : 0.05\n",
      "{'Coverage_rate': 0.9516, 'Average_size': 24.3418}\n",
      "Experiment--Data : Cifar100, Model : Renet50, Score : APS, Predictor : ClusterPredictor, Alpha : 0.05\n",
      "{'Coverage_rate': 0.9508, 'Average_size': 21.6504}\n",
      "Experiment--Data : Cifar100, Model : Renet50, Score : RAPS, Predictor : SplitPredictor, Alpha : 0.05\n",
      "{'Coverage_rate': 0.9458, 'Average_size': 25.234}\n",
      "Experiment--Data : Cifar100, Model : Renet50, Score : RAPS, Predictor : ClassWisePredictor, Alpha : 0.05\n",
      "{'Coverage_rate': 0.9538, 'Average_size': 32.019}\n",
      "Experiment--Data : Cifar100, Model : Renet50, Score : RAPS, Predictor : ClusterPredictor, Alpha : 0.05\n",
      "{'Coverage_rate': 0.9536, 'Average_size': 27.778}\n",
      "Experiment--Data : Cifar100, Model : Renet50, Score : SAPS, Predictor : SplitPredictor, Alpha : 0.05\n",
      "{'Coverage_rate': 0.947, 'Average_size': 25.2128}\n",
      "Experiment--Data : Cifar100, Model : Renet50, Score : SAPS, Predictor : ClassWisePredictor, Alpha : 0.05\n",
      "{'Coverage_rate': 0.9546, 'Average_size': 31.231}\n",
      "Experiment--Data : Cifar100, Model : Renet50, Score : SAPS, Predictor : ClusterPredictor, Alpha : 0.05\n",
      "{'Coverage_rate': 0.9448, 'Average_size': 25.0274}\n",
      "Experiment--Data : Cifar100, Model : Renet50, Score : Margin, Predictor : SplitPredictor, Alpha : 0.05\n",
      "{'Coverage_rate': 0.9522, 'Average_size': 68.061}\n",
      "Experiment--Data : Cifar100, Model : Renet50, Score : Margin, Predictor : ClassWisePredictor, Alpha : 0.05\n",
      "{'Coverage_rate': 0.952, 'Average_size': 68.0946}\n",
      "Experiment--Data : Cifar100, Model : Renet50, Score : Margin, Predictor : ClusterPredictor, Alpha : 0.05\n",
      "{'Coverage_rate': 0.954, 'Average_size': 69.2682}\n"
     ]
    }
   ],
   "source": [
    "CP(resnet3,cal_loader_Cifar100,test_loader_cifar100,\"Cifar100\",\"Renet50\")"
   ]
  },
  {
   "cell_type": "code",
   "execution_count": 14,
   "metadata": {},
   "outputs": [],
   "source": [
    "transform_train_FM=transforms.Compose([\n",
    "    transforms.Grayscale(num_output_channels=3),\n",
    "    transforms.Resize((32,32)),\n",
    "    transforms.RandomCrop(32, padding=4),\n",
    "    transforms.RandomHorizontalFlip(),\n",
    "    transforms.ToTensor(),\n",
    "    transforms.Normalize((0.28604063391685486,0.28604063391685486,0.28604063391685486),(0.10887365788221359,0.10887365788221359,0.10887365788221359))\n",
    "])\n",
    "\n",
    "transform_test_FM=transforms.Compose([\n",
    "    transforms.Grayscale(num_output_channels=3),\n",
    "    transforms.Resize((32,32)),\n",
    "    transforms.ToTensor(),\n",
    "    transforms.Normalize((0.28604063391685486,0.28604063391685486,0.28604063391685486),(0.10887365788221359,0.10887365788221359,0.10887365788221359))\n",
    "])\n",
    "\n",
    "testset_FM = datasets.FashionMNIST('~/.pytorch/F_MNIST_data/', download=True, train=False, transform=transform_test_FM)\n",
    "\n",
    "cal_dataset_FM, test_dataset_FM = torch.utils.data.random_split(testset_FM, [5000, 5000])\n",
    "\n",
    "cal_loader_FM = torch.utils.data.DataLoader(cal_dataset_FM, batch_size=250, shuffle=False)\n",
    "test_loader_FM = torch.utils.data.DataLoader(test_dataset_FM, batch_size=128, shuffle=False)\n",
    "\n",
    "class_names_FM = [\"T-shirt/top\",\"Trouser\",\"Pullover\",\"Dress\",\"Coat\",\"Sandal\",\"Shirt\",\"Sneaker\",\"Bag\",\"Ankle boot\"]"
   ]
  },
  {
   "cell_type": "code",
   "execution_count": 15,
   "metadata": {},
   "outputs": [
    {
     "name": "stdout",
     "output_type": "stream",
     "text": [
      "Experiment--Data : Fashion_MNIST, Model : CNN, Score : THR, Predictor : SplitPredictor, Alpha : 0.05\n",
      "{'Coverage_rate': 0.9414, 'Average_size': 1.1202}\n",
      "Experiment--Data : Fashion_MNIST, Model : CNN, Score : THR, Predictor : ClassWisePredictor, Alpha : 0.05\n",
      "{'Coverage_rate': 0.9494, 'Average_size': 1.2172}\n",
      "Experiment--Data : Fashion_MNIST, Model : CNN, Score : THR, Predictor : ClusterPredictor, Alpha : 0.05\n",
      "{'Coverage_rate': 0.9406, 'Average_size': 1.1168}\n",
      "Experiment--Data : Fashion_MNIST, Model : CNN, Score : APS, Predictor : SplitPredictor, Alpha : 0.05\n",
      "{'Coverage_rate': 0.9532, 'Average_size': 1.3744}\n",
      "Experiment--Data : Fashion_MNIST, Model : CNN, Score : APS, Predictor : ClassWisePredictor, Alpha : 0.05\n",
      "{'Coverage_rate': 0.9502, 'Average_size': 1.3964}\n",
      "Experiment--Data : Fashion_MNIST, Model : CNN, Score : APS, Predictor : ClusterPredictor, Alpha : 0.05\n",
      "{'Coverage_rate': 0.9438, 'Average_size': 1.347}\n",
      "Experiment--Data : Fashion_MNIST, Model : CNN, Score : RAPS, Predictor : SplitPredictor, Alpha : 0.05\n",
      "{'Coverage_rate': 0.9478, 'Average_size': 1.1612}\n",
      "Experiment--Data : Fashion_MNIST, Model : CNN, Score : RAPS, Predictor : ClassWisePredictor, Alpha : 0.05\n",
      "{'Coverage_rate': 0.9482, 'Average_size': 1.2972}\n",
      "Experiment--Data : Fashion_MNIST, Model : CNN, Score : RAPS, Predictor : ClusterPredictor, Alpha : 0.05\n",
      "{'Coverage_rate': 0.9446, 'Average_size': 1.174}\n",
      "Experiment--Data : Fashion_MNIST, Model : CNN, Score : SAPS, Predictor : SplitPredictor, Alpha : 0.05\n",
      "{'Coverage_rate': 0.9448, 'Average_size': 1.3722}\n",
      "Experiment--Data : Fashion_MNIST, Model : CNN, Score : SAPS, Predictor : ClassWisePredictor, Alpha : 0.05\n",
      "{'Coverage_rate': 0.9396, 'Average_size': 1.37}\n",
      "Experiment--Data : Fashion_MNIST, Model : CNN, Score : SAPS, Predictor : ClusterPredictor, Alpha : 0.05\n",
      "{'Coverage_rate': 0.9442, 'Average_size': 1.3608}\n",
      "Experiment--Data : Fashion_MNIST, Model : CNN, Score : Margin, Predictor : SplitPredictor, Alpha : 0.05\n"
     ]
    },
    {
     "name": "stderr",
     "output_type": "stream",
     "text": [
      "../aten/src/ATen/native/cuda/IndexKernel.cu:92: operator(): block: [0,0,0], thread: [96,0,0] Assertion `-sizes[i] <= index && index < sizes[i] && \"index out of bounds\"` failed.\n",
      "../aten/src/ATen/native/cuda/IndexKernel.cu:92: operator(): block: [0,0,0], thread: [97,0,0] Assertion `-sizes[i] <= index && index < sizes[i] && \"index out of bounds\"` failed.\n",
      "../aten/src/ATen/native/cuda/IndexKernel.cu:92: operator(): block: [0,0,0], thread: [98,0,0] Assertion `-sizes[i] <= index && index < sizes[i] && \"index out of bounds\"` failed.\n",
      "../aten/src/ATen/native/cuda/IndexKernel.cu:92: operator(): block: [0,0,0], thread: [99,0,0] Assertion `-sizes[i] <= index && index < sizes[i] && \"index out of bounds\"` failed.\n",
      "../aten/src/ATen/native/cuda/IndexKernel.cu:92: operator(): block: [0,0,0], thread: [80,0,0] Assertion `-sizes[i] <= index && index < sizes[i] && \"index out of bounds\"` failed.\n",
      "../aten/src/ATen/native/cuda/IndexKernel.cu:92: operator(): block: [0,0,0], thread: [81,0,0] Assertion `-sizes[i] <= index && index < sizes[i] && \"index out of bounds\"` failed.\n",
      "../aten/src/ATen/native/cuda/IndexKernel.cu:92: operator(): block: [0,0,0], thread: [82,0,0] Assertion `-sizes[i] <= index && index < sizes[i] && \"index out of bounds\"` failed.\n",
      "../aten/src/ATen/native/cuda/IndexKernel.cu:92: operator(): block: [0,0,0], thread: [83,0,0] Assertion `-sizes[i] <= index && index < sizes[i] && \"index out of bounds\"` failed.\n",
      "../aten/src/ATen/native/cuda/IndexKernel.cu:92: operator(): block: [0,0,0], thread: [84,0,0] Assertion `-sizes[i] <= index && index < sizes[i] && \"index out of bounds\"` failed.\n",
      "../aten/src/ATen/native/cuda/IndexKernel.cu:92: operator(): block: [0,0,0], thread: [85,0,0] Assertion `-sizes[i] <= index && index < sizes[i] && \"index out of bounds\"` failed.\n",
      "../aten/src/ATen/native/cuda/IndexKernel.cu:92: operator(): block: [0,0,0], thread: [86,0,0] Assertion `-sizes[i] <= index && index < sizes[i] && \"index out of bounds\"` failed.\n",
      "../aten/src/ATen/native/cuda/IndexKernel.cu:92: operator(): block: [0,0,0], thread: [87,0,0] Assertion `-sizes[i] <= index && index < sizes[i] && \"index out of bounds\"` failed.\n",
      "../aten/src/ATen/native/cuda/IndexKernel.cu:92: operator(): block: [0,0,0], thread: [88,0,0] Assertion `-sizes[i] <= index && index < sizes[i] && \"index out of bounds\"` failed.\n",
      "../aten/src/ATen/native/cuda/IndexKernel.cu:92: operator(): block: [0,0,0], thread: [89,0,0] Assertion `-sizes[i] <= index && index < sizes[i] && \"index out of bounds\"` failed.\n",
      "../aten/src/ATen/native/cuda/IndexKernel.cu:92: operator(): block: [0,0,0], thread: [90,0,0] Assertion `-sizes[i] <= index && index < sizes[i] && \"index out of bounds\"` failed.\n",
      "../aten/src/ATen/native/cuda/IndexKernel.cu:92: operator(): block: [0,0,0], thread: [91,0,0] Assertion `-sizes[i] <= index && index < sizes[i] && \"index out of bounds\"` failed.\n",
      "../aten/src/ATen/native/cuda/IndexKernel.cu:92: operator(): block: [0,0,0], thread: [92,0,0] Assertion `-sizes[i] <= index && index < sizes[i] && \"index out of bounds\"` failed.\n",
      "../aten/src/ATen/native/cuda/IndexKernel.cu:92: operator(): block: [0,0,0], thread: [93,0,0] Assertion `-sizes[i] <= index && index < sizes[i] && \"index out of bounds\"` failed.\n",
      "../aten/src/ATen/native/cuda/IndexKernel.cu:92: operator(): block: [0,0,0], thread: [94,0,0] Assertion `-sizes[i] <= index && index < sizes[i] && \"index out of bounds\"` failed.\n",
      "../aten/src/ATen/native/cuda/IndexKernel.cu:92: operator(): block: [0,0,0], thread: [95,0,0] Assertion `-sizes[i] <= index && index < sizes[i] && \"index out of bounds\"` failed.\n"
     ]
    },
    {
     "ename": "RuntimeError",
     "evalue": "CUDA error: device-side assert triggered\nCUDA kernel errors might be asynchronously reported at some other API call, so the stacktrace below might be incorrect.\nFor debugging consider passing CUDA_LAUNCH_BLOCKING=1.\nCompile with `TORCH_USE_CUDA_DSA` to enable device-side assertions.\n",
     "output_type": "error",
     "traceback": [
      "\u001b[0;31m---------------------------------------------------------------------------\u001b[0m",
      "\u001b[0;31mRuntimeError\u001b[0m                              Traceback (most recent call last)",
      "Cell \u001b[0;32mIn[15], line 1\u001b[0m\n\u001b[0;32m----> 1\u001b[0m \u001b[43mCP\u001b[49m\u001b[43m(\u001b[49m\u001b[43mmodel1\u001b[49m\u001b[43m,\u001b[49m\u001b[43mcal_loader_FM\u001b[49m\u001b[43m,\u001b[49m\u001b[43mtest_loader_FM\u001b[49m\u001b[43m,\u001b[49m\u001b[38;5;124;43m\"\u001b[39;49m\u001b[38;5;124;43mFashion_MNIST\u001b[39;49m\u001b[38;5;124;43m\"\u001b[39;49m\u001b[43m,\u001b[49m\u001b[38;5;124;43m\"\u001b[39;49m\u001b[38;5;124;43mCNN\u001b[39;49m\u001b[38;5;124;43m\"\u001b[39;49m\u001b[43m)\u001b[49m\n",
      "Cell \u001b[0;32mIn[13], line 14\u001b[0m, in \u001b[0;36mCP\u001b[0;34m(model, cal_loader, test_loader, setname, mdname)\u001b[0m\n\u001b[1;32m     12\u001b[0m predictor\u001b[38;5;241m.\u001b[39mcalibrate(cal_loader, \u001b[38;5;241m0.05\u001b[39m)\n\u001b[1;32m     13\u001b[0m \u001b[38;5;28mprint\u001b[39m(\u001b[38;5;124mf\u001b[39m\u001b[38;5;124m\"\u001b[39m\u001b[38;5;124mExperiment--Data : \u001b[39m\u001b[38;5;132;01m{\u001b[39;00msetname\u001b[38;5;132;01m}\u001b[39;00m\u001b[38;5;124m, Model : \u001b[39m\u001b[38;5;132;01m{\u001b[39;00mmdname\u001b[38;5;132;01m}\u001b[39;00m\u001b[38;5;124m, Score : \u001b[39m\u001b[38;5;132;01m{\u001b[39;00mscore\u001b[38;5;241m.\u001b[39m\u001b[38;5;18m__class__\u001b[39m\u001b[38;5;241m.\u001b[39m\u001b[38;5;18m__name__\u001b[39m\u001b[38;5;132;01m}\u001b[39;00m\u001b[38;5;124m, Predictor : \u001b[39m\u001b[38;5;132;01m{\u001b[39;00mpredictor\u001b[38;5;241m.\u001b[39m\u001b[38;5;18m__class__\u001b[39m\u001b[38;5;241m.\u001b[39m\u001b[38;5;18m__name__\u001b[39m\u001b[38;5;132;01m}\u001b[39;00m\u001b[38;5;124m, Alpha : 0.05\u001b[39m\u001b[38;5;124m\"\u001b[39m)\n\u001b[0;32m---> 14\u001b[0m result\u001b[38;5;241m=\u001b[39m\u001b[43mpredictor\u001b[49m\u001b[38;5;241;43m.\u001b[39;49m\u001b[43mevaluate\u001b[49m\u001b[43m(\u001b[49m\u001b[43mtest_loader\u001b[49m\u001b[43m)\u001b[49m\n\u001b[1;32m     15\u001b[0m \u001b[38;5;28mprint\u001b[39m(result)\n\u001b[1;32m     16\u001b[0m df_Cr\u001b[38;5;241m.\u001b[39mloc[predictor\u001b[38;5;241m.\u001b[39m\u001b[38;5;18m__class__\u001b[39m\u001b[38;5;241m.\u001b[39m\u001b[38;5;18m__name__\u001b[39m,score\u001b[38;5;241m.\u001b[39m\u001b[38;5;18m__class__\u001b[39m\u001b[38;5;241m.\u001b[39m\u001b[38;5;18m__name__\u001b[39m]\u001b[38;5;241m=\u001b[39mresult[\u001b[38;5;124m'\u001b[39m\u001b[38;5;124mCoverage_rate\u001b[39m\u001b[38;5;124m'\u001b[39m]\n",
      "File \u001b[0;32m/usr/local/lib/python3.10/dist-packages/torchcp/classification/predictors/split.py:116\u001b[0m, in \u001b[0;36mSplitPredictor.evaluate\u001b[0;34m(self, val_dataloader)\u001b[0m\n\u001b[1;32m    114\u001b[0m \u001b[38;5;28;01mfor\u001b[39;00m examples \u001b[38;5;129;01min\u001b[39;00m val_dataloader:\n\u001b[1;32m    115\u001b[0m     tmp_x, tmp_label \u001b[38;5;241m=\u001b[39m examples[\u001b[38;5;241m0\u001b[39m]\u001b[38;5;241m.\u001b[39mto(\u001b[38;5;28mself\u001b[39m\u001b[38;5;241m.\u001b[39m_device), examples[\u001b[38;5;241m1\u001b[39m]\u001b[38;5;241m.\u001b[39mto(\u001b[38;5;28mself\u001b[39m\u001b[38;5;241m.\u001b[39m_device)\n\u001b[0;32m--> 116\u001b[0m     prediction_sets_batch \u001b[38;5;241m=\u001b[39m \u001b[38;5;28;43mself\u001b[39;49m\u001b[38;5;241;43m.\u001b[39;49m\u001b[43mpredict\u001b[49m\u001b[43m(\u001b[49m\u001b[43mtmp_x\u001b[49m\u001b[43m)\u001b[49m\n\u001b[1;32m    117\u001b[0m     prediction_sets\u001b[38;5;241m.\u001b[39mextend(prediction_sets_batch)\n\u001b[1;32m    118\u001b[0m     labels_list\u001b[38;5;241m.\u001b[39mappend(tmp_label)\n",
      "File \u001b[0;32m/usr/local/lib/python3.10/dist-packages/torchcp/classification/predictors/split.py:86\u001b[0m, in \u001b[0;36mSplitPredictor.predict\u001b[0;34m(self, x_batch)\u001b[0m\n\u001b[1;32m     84\u001b[0m     x_batch \u001b[38;5;241m=\u001b[39m \u001b[38;5;28mself\u001b[39m\u001b[38;5;241m.\u001b[39m_model(x_batch\u001b[38;5;241m.\u001b[39mto(\u001b[38;5;28mself\u001b[39m\u001b[38;5;241m.\u001b[39m_device))\u001b[38;5;241m.\u001b[39mfloat()\n\u001b[1;32m     85\u001b[0m x_batch \u001b[38;5;241m=\u001b[39m \u001b[38;5;28mself\u001b[39m\u001b[38;5;241m.\u001b[39m_logits_transformation(x_batch)\u001b[38;5;241m.\u001b[39mdetach()\n\u001b[0;32m---> 86\u001b[0m sets \u001b[38;5;241m=\u001b[39m \u001b[38;5;28;43mself\u001b[39;49m\u001b[38;5;241;43m.\u001b[39;49m\u001b[43mpredict_with_logits\u001b[49m\u001b[43m(\u001b[49m\u001b[43mx_batch\u001b[49m\u001b[43m)\u001b[49m\n\u001b[1;32m     87\u001b[0m \u001b[38;5;28;01mreturn\u001b[39;00m sets\n",
      "File \u001b[0;32m/usr/local/lib/python3.10/dist-packages/torchcp/classification/predictors/split.py:101\u001b[0m, in \u001b[0;36mSplitPredictor.predict_with_logits\u001b[0;34m(self, logits, q_hat)\u001b[0m\n\u001b[1;32m     99\u001b[0m scores \u001b[38;5;241m=\u001b[39m \u001b[38;5;28mself\u001b[39m\u001b[38;5;241m.\u001b[39mscore_function(logits)\u001b[38;5;241m.\u001b[39mto(\u001b[38;5;28mself\u001b[39m\u001b[38;5;241m.\u001b[39m_device)\n\u001b[1;32m    100\u001b[0m \u001b[38;5;28;01mif\u001b[39;00m q_hat \u001b[38;5;129;01mis\u001b[39;00m \u001b[38;5;28;01mNone\u001b[39;00m:\n\u001b[0;32m--> 101\u001b[0m     S \u001b[38;5;241m=\u001b[39m \u001b[38;5;28;43mself\u001b[39;49m\u001b[38;5;241;43m.\u001b[39;49m\u001b[43m_generate_prediction_set\u001b[49m\u001b[43m(\u001b[49m\u001b[43mscores\u001b[49m\u001b[43m,\u001b[49m\u001b[43m \u001b[49m\u001b[38;5;28;43mself\u001b[39;49m\u001b[38;5;241;43m.\u001b[39;49m\u001b[43mq_hat\u001b[49m\u001b[43m)\u001b[49m\n\u001b[1;32m    102\u001b[0m \u001b[38;5;28;01melse\u001b[39;00m:\n\u001b[1;32m    103\u001b[0m     S \u001b[38;5;241m=\u001b[39m \u001b[38;5;28mself\u001b[39m\u001b[38;5;241m.\u001b[39m_generate_prediction_set(scores, q_hat)\n",
      "File \u001b[0;32m/usr/local/lib/python3.10/dist-packages/torchcp/classification/predictors/base.py:66\u001b[0m, in \u001b[0;36mBasePredictor._generate_prediction_set\u001b[0;34m(self, scores, q_hat)\u001b[0m\n\u001b[1;32m     64\u001b[0m     \u001b[38;5;28;01mreturn\u001b[39;00m torch\u001b[38;5;241m.\u001b[39margwhere(scores \u001b[38;5;241m<\u001b[39m q_hat)\u001b[38;5;241m.\u001b[39mreshape(\u001b[38;5;241m-\u001b[39m\u001b[38;5;241m1\u001b[39m)\u001b[38;5;241m.\u001b[39mtolist()\n\u001b[1;32m     65\u001b[0m \u001b[38;5;28;01melse\u001b[39;00m:\n\u001b[0;32m---> 66\u001b[0m     \u001b[38;5;28;01mreturn\u001b[39;00m [torch\u001b[38;5;241m.\u001b[39margwhere(scores[i] \u001b[38;5;241m<\u001b[39m q_hat)\u001b[38;5;241m.\u001b[39mreshape(\u001b[38;5;241m-\u001b[39m\u001b[38;5;241m1\u001b[39m)\u001b[38;5;241m.\u001b[39mtolist() \u001b[38;5;28;01mfor\u001b[39;00m i \u001b[38;5;129;01min\u001b[39;00m \u001b[38;5;28mrange\u001b[39m(scores\u001b[38;5;241m.\u001b[39mshape[\u001b[38;5;241m0\u001b[39m])]\n",
      "File \u001b[0;32m/usr/local/lib/python3.10/dist-packages/torchcp/classification/predictors/base.py:66\u001b[0m, in \u001b[0;36m<listcomp>\u001b[0;34m(.0)\u001b[0m\n\u001b[1;32m     64\u001b[0m     \u001b[38;5;28;01mreturn\u001b[39;00m torch\u001b[38;5;241m.\u001b[39margwhere(scores \u001b[38;5;241m<\u001b[39m q_hat)\u001b[38;5;241m.\u001b[39mreshape(\u001b[38;5;241m-\u001b[39m\u001b[38;5;241m1\u001b[39m)\u001b[38;5;241m.\u001b[39mtolist()\n\u001b[1;32m     65\u001b[0m \u001b[38;5;28;01melse\u001b[39;00m:\n\u001b[0;32m---> 66\u001b[0m     \u001b[38;5;28;01mreturn\u001b[39;00m [\u001b[43mtorch\u001b[49m\u001b[38;5;241;43m.\u001b[39;49m\u001b[43margwhere\u001b[49m\u001b[43m(\u001b[49m\u001b[43mscores\u001b[49m\u001b[43m[\u001b[49m\u001b[43mi\u001b[49m\u001b[43m]\u001b[49m\u001b[43m \u001b[49m\u001b[38;5;241;43m<\u001b[39;49m\u001b[43m \u001b[49m\u001b[43mq_hat\u001b[49m\u001b[43m)\u001b[49m\u001b[38;5;241m.\u001b[39mreshape(\u001b[38;5;241m-\u001b[39m\u001b[38;5;241m1\u001b[39m)\u001b[38;5;241m.\u001b[39mtolist() \u001b[38;5;28;01mfor\u001b[39;00m i \u001b[38;5;129;01min\u001b[39;00m \u001b[38;5;28mrange\u001b[39m(scores\u001b[38;5;241m.\u001b[39mshape[\u001b[38;5;241m0\u001b[39m])]\n",
      "\u001b[0;31mRuntimeError\u001b[0m: CUDA error: device-side assert triggered\nCUDA kernel errors might be asynchronously reported at some other API call, so the stacktrace below might be incorrect.\nFor debugging consider passing CUDA_LAUNCH_BLOCKING=1.\nCompile with `TORCH_USE_CUDA_DSA` to enable device-side assertions.\n"
     ]
    }
   ],
   "source": [
    "CP(model1,cal_loader_FM,test_loader_FM,\"Fashion_MNIST\",\"CNN\")"
   ]
  }
 ],
 "metadata": {
  "kernelspec": {
   "display_name": "Python 3",
   "language": "python",
   "name": "python3"
  },
  "language_info": {
   "codemirror_mode": {
    "name": "ipython",
    "version": 3
   },
   "file_extension": ".py",
   "mimetype": "text/x-python",
   "name": "python",
   "nbconvert_exporter": "python",
   "pygments_lexer": "ipython3",
   "version": "3.10.12"
  }
 },
 "nbformat": 4,
 "nbformat_minor": 2
}
